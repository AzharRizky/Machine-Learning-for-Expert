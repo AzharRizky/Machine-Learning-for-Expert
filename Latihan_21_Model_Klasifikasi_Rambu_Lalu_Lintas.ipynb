{
  "nbformat": 4,
  "nbformat_minor": 0,
  "metadata": {
    "colab": {
      "name": "Latihan 21 - Model Klasifikasi Rambu Lalu Lintas.ipynb",
      "provenance": [],
      "collapsed_sections": []
    },
    "kernelspec": {
      "name": "python3",
      "display_name": "Python 3"
    },
    "language_info": {
      "name": "python"
    }
  },
  "cells": [
    {
      "cell_type": "code",
      "execution_count": 1,
      "metadata": {
        "id": "LYc3yUELO8_t"
      },
      "outputs": [],
      "source": [
        "import pandas as pd\n",
        "import numpy as np\n",
        "import tensorflow as tf\n",
        "from keras.models import Sequential\n",
        "from keras.models import Sequential, load_model\n",
        "from keras.layers import Conv2D, Dense, Flatten, Dropout, MaxPool2D\n",
        "from sklearn.model_selection import train_test_split\n",
        "import pickle\n",
        "import seaborn as sns\n",
        "import matplotlib\n",
        "import matplotlib.pyplot as plt\n",
        "matplotlib.style.use('ggplot')\n",
        "%matplotlib inline\n",
        "%config InlineBackend.figure_format = 'retina'"
      ]
    },
    {
      "cell_type": "code",
      "source": [
        "from google.colab import drive\n",
        "drive.mount('/content/drive')"
      ],
      "metadata": {
        "id": "iZGxyDfR-9w_"
      },
      "execution_count": null,
      "outputs": []
    },
    {
      "cell_type": "code",
      "source": [
        "## Load the data\n",
        "training_file = \"/content/drive/MyDrive/Dataset/German Traffic Sign/train.p\"\n",
        "testing_file = \"/content/drive/MyDrive/Dataset/German Traffic Sign/test.p\"   \n",
        " \n",
        "# Open and load the training file \n",
        "with open(training_file, mode='rb') as f:\n",
        "    train = pickle.load(f)\n",
        " \n",
        "# Open and load the testing file\n",
        "with open(testing_file, mode='rb') as f:\n",
        "    test = pickle.load(f)\n",
        "    \n",
        "print(\"Data loaded\")"
      ],
      "metadata": {
        "id": "Equ1H0-a-pzX"
      },
      "execution_count": null,
      "outputs": []
    }
  ]
}