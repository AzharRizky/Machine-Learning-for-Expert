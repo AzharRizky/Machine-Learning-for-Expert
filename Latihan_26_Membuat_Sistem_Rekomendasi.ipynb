{
  "nbformat": 4,
  "nbformat_minor": 0,
  "metadata": {
    "colab": {
      "name": "Latihan 26 - Membuat Sistem Rekomendasi.ipynb",
      "provenance": []
    },
    "kernelspec": {
      "name": "python3",
      "display_name": "Python 3"
    },
    "language_info": {
      "name": "python"
    }
  },
  "cells": [
    {
      "cell_type": "code",
      "execution_count": 1,
      "metadata": {
        "colab": {
          "base_uri": "https://localhost:8080/"
        },
        "id": "Fh4hN1YQHUqu",
        "outputId": "5d930f99-8574-44db-e134-8147af3694c7"
      },
      "outputs": [
        {
          "output_type": "stream",
          "name": "stdout",
          "text": [
            "--2022-01-15 01:08:50--  https://archive.ics.uci.edu/ml/machine-learning-databases/00232/RCdata.zip\n",
            "Resolving archive.ics.uci.edu (archive.ics.uci.edu)... 128.195.10.252\n",
            "Connecting to archive.ics.uci.edu (archive.ics.uci.edu)|128.195.10.252|:443... connected.\n",
            "HTTP request sent, awaiting response... 200 OK\n",
            "Length: 39674 (39K) [application/x-httpd-php]\n",
            "Saving to: ‘RCdata.zip’\n",
            "\n",
            "RCdata.zip          100%[===================>]  38.74K  --.-KB/s    in 0.07s   \n",
            "\n",
            "2022-01-15 01:08:50 (582 KB/s) - ‘RCdata.zip’ saved [39674/39674]\n",
            "\n"
          ]
        }
      ],
      "source": [
        "!wget https://archive.ics.uci.edu/ml/machine-learning-databases/00232/RCdata.zip"
      ]
    },
    {
      "cell_type": "code",
      "source": [
        "!unzip /content/RCdata.zip"
      ],
      "metadata": {
        "colab": {
          "base_uri": "https://localhost:8080/"
        },
        "id": "DnmZbP4SR2Ot",
        "outputId": "ca3f00c1-42f3-49ef-cf41-5e704c6ca4be"
      },
      "execution_count": 2,
      "outputs": [
        {
          "output_type": "stream",
          "name": "stdout",
          "text": [
            "Archive:  /content/RCdata.zip\n",
            "  inflating: chefmozaccepts.csv      \n",
            "  inflating: chefmozcuisine.csv      \n",
            "  inflating: chefmozhours4.csv       \n",
            "  inflating: chefmozparking.csv      \n",
            "  inflating: geoplaces2.csv          \n",
            "  inflating: rating_final.csv        \n",
            "  inflating: README                  \n",
            "  inflating: usercuisine.csv         \n",
            "  inflating: userpayment.csv         \n",
            "  inflating: userprofile.csv         \n"
          ]
        }
      ]
    },
    {
      "cell_type": "code",
      "source": [
        "import pandas as pd\n",
        " \n",
        "accepts = pd.read_csv('/content/chefmozaccepts.csv')\n",
        "cuisine = pd.read_csv('/content/chefmozcuisine.csv')\n",
        "hours = pd.read_csv('/content/chefmozhours4.csv')\n",
        "parking = pd.read_csv('/content/chefmozparking.csv')\n",
        "geo = pd.read_csv('/content/geoplaces2.csv', encoding = \"ISO-8859-1\")\n",
        "usercuisine = pd.read_csv('/content/usercuisine.csv')\n",
        "payment = pd.read_csv('/content/userpayment.csv')\n",
        "profile = pd.read_csv('/content/userprofile.csv')\n",
        "rating = pd.read_csv('/content/rating_final.csv')\n",
        " \n",
        "print('Jumlah data pembayaran yang diterima restoran: ', len(accepts.placeID.unique()))\n",
        "print('Jumlah data masakan pada restoran: ', len(cuisine.placeID.unique()))\n",
        "print('Jumlah data waktu buka restoran: ', len(hours.placeID.unique()))\n",
        "print('Jumlah data lokasi restoran: ', len(geo.placeID.unique()))\n",
        "print('Jumlah data masakan pengguna: ', len(usercuisine.userID.unique()))\n",
        "print('Jumlah data profil pengguna: ', len(profile.userID.unique()))\n",
        "print('Jumlah data penilaian yang diberikan pengguna: ', len(rating.userID.unique()))\n",
        "print('Jumlah data penilaian restoran: ', len(rating.placeID.unique()))"
      ],
      "metadata": {
        "colab": {
          "base_uri": "https://localhost:8080/"
        },
        "id": "WPPK4404R_Uw",
        "outputId": "8cf14256-f7d8-4ac7-be94-7683ecc2c775"
      },
      "execution_count": 3,
      "outputs": [
        {
          "output_type": "stream",
          "name": "stdout",
          "text": [
            "Jumlah data pembayaran yang diterima restoran:  615\n",
            "Jumlah data masakan pada restoran:  769\n",
            "Jumlah data waktu buka restoran:  694\n",
            "Jumlah data lokasi restoran:  130\n",
            "Jumlah data masakan pengguna:  138\n",
            "Jumlah data profil pengguna:  138\n",
            "Jumlah data penilaian yang diberikan pengguna:  138\n",
            "Jumlah data penilaian restoran:  130\n"
          ]
        }
      ]
    }
  ]
}